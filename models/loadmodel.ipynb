{
 "cells": [
  {
   "cell_type": "code",
   "execution_count": 19,
   "metadata": {},
   "outputs": [],
   "source": [
    "from keras.models import load_model\n",
    "import numpy as np\n",
    "import os\n",
    "import librosa\n",
    "import IPython.display as ipd\n",
    "model=load_model('my_model.h5')\n"
   ]
  },
  {
   "cell_type": "code",
   "execution_count": 2,
   "metadata": {},
   "outputs": [],
   "source": [
    "train_audio_path = 'train\\classes'\n",
    "classes=os.listdir(train_audio_path)"
   ]
  },
  {
   "cell_type": "code",
   "execution_count": 17,
   "metadata": {},
   "outputs": [],
   "source": [
    "\n",
    "def predict(audio):\n",
    "    prob=model.predict(audio.reshape(1,154350,1))\n",
    "    #index=np.argmax(prob[0])\n",
    "    #print(sum(prob[0])*100)\n",
    "\n",
    "    class_perc=prob[0][0]*100\n",
    "    class_perc1=prob[0][1]*100\n",
    "    class_perc2=prob[0][2]*100\n",
    "    class_perc3=prob[0][3]*100\n",
    "    class_perc4=prob[0][4]*100\n",
    "    print(classes[0],\"=\",class_perc,\"%\")\n",
    "    print(classes[1],\"=\",class_perc1,\"%\")\n",
    "    print(classes[2],\"=\",class_perc2,\"%\")\n",
    "    print(classes[3],\"=\",class_perc3,\"%\")\n",
    "    print(classes[4],\"=\",class_perc4,\"%\")\n",
    "    \n",
    "\n",
    "\n",
    "    \n",
    "\n",
    "    #return class_perc ,class_perc1,class_perc2,class_perc2\n",
    "   "
   ]
  },
  {
   "cell_type": "code",
   "execution_count": 20,
   "metadata": {},
   "outputs": [
    {
     "name": "stdout",
     "output_type": "stream",
     "text": [
      "belly_pain = 0.0003545352228684351 %\n",
      "burping = 0.0002708291503950022 %\n",
      "discomfort = 0.0006246872999327024 %\n",
      "hungry = 99.99717473983765 %\n",
      "tired = 0.001571857137605548 %\n"
     ]
    }
   ],
   "source": [
    "filepath='7A864194-4B6B-4850-ABBF-0C2A8170107B-1436846915-1.1-f-26-bu.wav'\n",
    "#print(samples)\n",
    "samples, sample_rate = librosa.load( filepath)\n",
    "ipd.Audio(samples,rate=154350)  \n",
    "predict(samples)\n",
    "  "
   ]
  },
  {
   "cell_type": "code",
   "execution_count": null,
   "metadata": {},
   "outputs": [],
   "source": []
  }
 ],
 "metadata": {
  "interpreter": {
   "hash": "707aab0a078b6b4ae7605615109a6f7159987081daedafbf3334295fb1ab1b6c"
  },
  "kernelspec": {
   "display_name": "Python 3.10.2 64-bit",
   "language": "python",
   "name": "python3"
  },
  "language_info": {
   "codemirror_mode": {
    "name": "ipython",
    "version": 3
   },
   "file_extension": ".py",
   "mimetype": "text/x-python",
   "name": "python",
   "nbconvert_exporter": "python",
   "pygments_lexer": "ipython3",
   "version": "3.10.2"
  },
  "orig_nbformat": 4
 },
 "nbformat": 4,
 "nbformat_minor": 2
}
